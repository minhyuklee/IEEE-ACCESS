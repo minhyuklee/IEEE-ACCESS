{
 "cells": [
  {
   "cell_type": "code",
   "execution_count": 2,
   "metadata": {
    "scrolled": false
   },
   "outputs": [
    {
     "ename": "OSError",
     "evalue": "[WinError 123] 파일 이름, 디렉터리 이름 또는 볼륨 레이블 구문이 잘못되었습니다: 'D:\\\\MinHyuk\\\\Hand Sign Recognition\\\\python experiment\\\\mylib\\\\code\\\\MATLAB_code\\\\Data_preprocessing\\train_test_data\\train_data'",
     "output_type": "error",
     "traceback": [
      "\u001b[1;31m---------------------------------------------------------------------------\u001b[0m",
      "\u001b[1;31mOSError\u001b[0m                                   Traceback (most recent call last)",
      "\u001b[1;32m<ipython-input-2-c09340735f58>\u001b[0m in \u001b[0;36m<module>\u001b[1;34m\u001b[0m\n\u001b[0;32m     21\u001b[0m     \u001b[1;32mreturn\u001b[0m\u001b[1;33m(\u001b[0m\u001b[0mdata\u001b[0m\u001b[1;33m)\u001b[0m\u001b[1;33m\u001b[0m\u001b[1;33m\u001b[0m\u001b[0m\n\u001b[0;32m     22\u001b[0m \u001b[1;33m\u001b[0m\u001b[0m\n\u001b[1;32m---> 23\u001b[1;33m \u001b[0mos\u001b[0m\u001b[1;33m.\u001b[0m\u001b[0mchdir\u001b[0m\u001b[1;33m(\u001b[0m\u001b[1;34m\"D:\\MinHyuk\\Hand Sign Recognition\\python experiment\\mylib\\code\\MATLAB_code\\Data_preprocessing\\train_test_data\\train_data\"\u001b[0m\u001b[1;33m)\u001b[0m\u001b[1;33m\u001b[0m\u001b[1;33m\u001b[0m\u001b[0m\n\u001b[0m\u001b[0;32m     24\u001b[0m \u001b[1;33m\u001b[0m\u001b[0m\n\u001b[0;32m     25\u001b[0m \u001b[0mtrain_filename\u001b[0m \u001b[1;33m=\u001b[0m \u001b[1;33m(\u001b[0m\u001b[1;33m[\u001b[0m\u001b[1;34m'GPS'\u001b[0m\u001b[1;33m]\u001b[0m\u001b[1;33m)\u001b[0m\u001b[1;33m\u001b[0m\u001b[1;33m\u001b[0m\u001b[0m\n",
      "\u001b[1;31mOSError\u001b[0m: [WinError 123] 파일 이름, 디렉터리 이름 또는 볼륨 레이블 구문이 잘못되었습니다: 'D:\\\\MinHyuk\\\\Hand Sign Recognition\\\\python experiment\\\\mylib\\\\code\\\\MATLAB_code\\\\Data_preprocessing\\train_test_data\\train_data'"
     ]
    }
   ],
   "source": [
    "import sys\n",
    "sys.path.append(\"D:\\MinHyuk\\Hand Sign Recognition\\python experiment\\mylib\\code\")\n",
    "sys.path\n",
    "\n",
    "import os\n",
    "\n",
    "from data_manipulation_MH import *\n",
    "from GPS_learning import *\n",
    "import numpy as np\n",
    "from keras.preprocessing import sequence\n",
    "from keras.models import load_model\n",
    "import pandas as pd\n",
    "\n",
    "def dataconvert(filelist, datatype):\n",
    "    data = []\n",
    "    for i in range(len(filelist)):\n",
    "        data_temp = csvread(filelist[i], datatype[i])\n",
    "        for j in range(len(data_temp)):\n",
    "            data.append(data_temp[j])\n",
    "    data = chartofloatarray(data)\n",
    "    return(data)\n",
    "\n",
    "os.chdir(\"D:\\MinHyuk\\Hand Sign Recognition\\python experiment\\mylib\\code\\MATLAB_code\\Data_preprocessing\\train_test_data\\train_data\")\n",
    "\n",
    "train_filename = (['GPS'])\n",
    "# test_filename = (['GPS'])\n",
    "\n",
    "input_type = 'sensor'\n",
    "output_type = 'GPS'\n",
    "\n",
    "# training data\n",
    "input_train = dataconvert([train_filename], ['training_'+input_type])\n",
    "output_train = dataconvert([train_filename], ['training_'+output_type])\n",
    "\n",
    "# test data: Sequential gesture\n",
    "# input_test = dataconvert([test_filename], ['test_'+input_type])\n",
    "\n",
    "# parsing with certain number\n",
    "check_num = 10000.0\n",
    "# for training data\n",
    "input_trainset = parsingdata(input_train, check_num)\n",
    "aux_input_trainset = auxiliary_input(input_trainset)\n",
    "aux_input_trainset = listtoarray2(aux_input_trainset) # model.fit의 입력으로 list 타입이 아닌 np.array 타입으로 넣어야 함.\n",
    "output_trainset = parsingdata(output_train, check_num)\n",
    "output_trainset = listtoarray2(output_trainset) # model.fit의 입력으로 list 타입이 아닌 np.array 타입으로 넣어야 함.\n",
    "# for test data\n",
    "# input_testset = parsingdata(input_test, check_num) # fixed window size로 이미 구분되어 있기 때문에 zero padding 불필요\n",
    "# aux_input_testset = auxiliary_input(input_testset)\n",
    "# aux_input_testset = listtoarray2(aux_input_testset)\n",
    "# input_testset = listtoarray3(input_testset) # parsingdata의 출력은 list형태이나 model의 입력은 array여야 하므로 변환해줌.\n",
    "\n",
    "# Zero-padding\n",
    "input_trainset = sequence.pad_sequences(input_trainset, dtype='float32', padding='pre')\n",
    "# sequence.pad_sequences는 list 타입의 입력 데이터를 array 타입으로 바꿔서 출력해줌.\n",
    "# 학습 데이터는 길이가 다양한 시퀀스로 구성됨.\n",
    "# model.fit의 입력인 inputs는 array 타입의 데이터를 허용하는데, 다양한 길이의 시퀀스로는 3차원 array를 만들 수 없음.\n",
    "# 따라서 다양한 길이의 input sequence를 사용할 때 zero-padding은 필수임.\n",
    "\n",
    "# padding 전의 input_trainset의 데이터의 형태를 표현하면 아래의 예시와 같음.\n",
    "# [[sensor1.t0 sensor2.t0 ... sensor10.t0;\n",
    "#  sensor1.t1 sensor2.t1 ... sensor10.t1;\n",
    "#  ...\n",
    "#  sensor1.t30 sensor2.t30 ... sensor10.t30]_sample1\n",
    "\n",
    "# [sensor1.t0 sensor2.t0 ... sensor10.t0;\n",
    "#  sensor1.t1 sensor2.t1 ... sensor10.t1;\n",
    "#  ...\n",
    "#  sensor1.t17 sensor2.t17 ... sensor10.t17]_sample2\n",
    "#\n",
    "# ...\n",
    "# [sensor1.t0 sensor2.t0 ... sensor10.t0;\n",
    "#  sensor1.t1 sensor2.t1 ... sensor10.t1;\n",
    "#  ...\n",
    "#  sensor1.t25 sensor2.t25 ... sensor10.t25]_sample26400\n",
    "\n",
    "\n",
    "# validation data\n",
    "# input_valid = list(range(2))\n",
    "# input_valid[0] = dataconvert([valid_filename], ['_'+input_type])\n",
    "# input_valid[1] = dataconvert([valid_filename], ['_'+output_type])\n",
    "# output_valid = dataconvert([valid_filename], ['_'+output_type])\n",
    "\n",
    "# test data\n",
    "# input_test = list(range(2))\n",
    "# input_test[0] = dataconvert([test_filename1, test_filename2, test_filename3], ['test_'+input_type, '_'+input_type, 'training_'+input_type])\n",
    "# input_test[1] = dataconvert([test_filename1, test_filename2, test_filename3], ['test_'+output_type, '_'+output_type, 'training_'+output_type])\n",
    "# output_test = dataconvert([test_filename1, test_filename2, test_filename3], ['test_'+output_type, '_'+output_type, 'training_'+output_type])\n",
    "\n",
    "GPS_model = GPSestimation(10) # model의 입력은 사용된 센서 개수를 의미함.\n",
    "GPS_model.compile(optimizer='adam', loss='mean_squared_error',metrics=['mae'])\n",
    "GPS_model.summary()\n",
    "\n",
    "# model compile 후 실제로 학습되는 과정: model.fit\n",
    "GPS_model.fit({'main_input': input_trainset, 'last_step_input': aux_input_trainset}, output_trainset, epochs=10, batch_size=2640)\n",
    "\n",
    "# 학습이 끝난 model에 test 데이터를 입력하여 출력값을 저장\n",
    "# predictions = GPS_model.predict({'main_input': input_testset, 'last_step_input': aux_input_testset})\n",
    "\n",
    "# model 저장, h5 파일\n",
    "# os.chdir(\"D:\\MinHyuk\\Hand Sign Recognition\\python experiment\\mylib\\model\")\n",
    "# GPS_model.save('GPS_model.h5')\n",
    "\n",
    "# os.chdir(\"D:\\MinHyuk\\Hand Sign Recognition\\python experiment\\mylib\\code\\MATLAB_code\")\n",
    "# pd.DataFrame(predictions).to_csv('predictions.csv', header=False, index=False)\n",
    "\n",
    "# Export weight & bias\n",
    "os.chdir(\"D:\\MinHyuk\\Hand Sign Recognition\\python experiment\\mylib\\code\\MATLAB_code\\model_reconstruction\\weights_from_python\\GPS_model\")\n",
    "weightexport_LSTM(GPS_model, [1,2])\n",
    "weightexport_Dense(GPS_model, [5,6,7,8,9,10,11])"
   ]
  },
  {
   "cell_type": "code",
   "execution_count": 2,
   "metadata": {
    "scrolled": true
   },
   "outputs": [
    {
     "name": "stdout",
     "output_type": "stream",
     "text": [
      "Model: \"model_1\"\n",
      "__________________________________________________________________________________________________\n",
      "Layer (type)                    Output Shape         Param #     Connected to                     \n",
      "==================================================================================================\n",
      "main_input (InputLayer)         (None, None, 10)     0                                            \n",
      "__________________________________________________________________________________________________\n",
      "lstm_1 (LSTM)                   (None, None, 128)    71168       main_input[0][0]                 \n",
      "__________________________________________________________________________________________________\n",
      "lstm_2 (LSTM)                   (None, 128)          131584      lstm_1[0][0]                     \n",
      "__________________________________________________________________________________________________\n",
      "last_step_input (InputLayer)    (None, 10)           0                                            \n",
      "__________________________________________________________________________________________________\n",
      "concatenate_1 (Concatenate)     (None, 138)          0           lstm_2[0][0]                     \n",
      "                                                                 last_step_input[0][0]            \n",
      "__________________________________________________________________________________________________\n",
      "dense_1 (Dense)                 (None, 128)          17792       concatenate_1[0][0]              \n",
      "__________________________________________________________________________________________________\n",
      "dense_2 (Dense)                 (None, 128)          16512       dense_1[0][0]                    \n",
      "__________________________________________________________________________________________________\n",
      "dense_3 (Dense)                 (None, 128)          16512       dense_2[0][0]                    \n",
      "__________________________________________________________________________________________________\n",
      "dense_4 (Dense)                 (None, 128)          16512       dense_3[0][0]                    \n",
      "__________________________________________________________________________________________________\n",
      "dense_5 (Dense)                 (None, 128)          16512       dense_4[0][0]                    \n",
      "__________________________________________________________________________________________________\n",
      "dense_6 (Dense)                 (None, 128)          16512       dense_5[0][0]                    \n",
      "__________________________________________________________________________________________________\n",
      "dense_7 (Dense)                 (None, 1)            129         dense_6[0][0]                    \n",
      "==================================================================================================\n",
      "Total params: 303,233\n",
      "Trainable params: 303,233\n",
      "Non-trainable params: 0\n",
      "__________________________________________________________________________________________________\n"
     ]
    }
   ],
   "source": [
    "GPS_model.summary()"
   ]
  },
  {
   "cell_type": "code",
   "execution_count": 3,
   "metadata": {},
   "outputs": [
    {
     "name": "stdout",
     "output_type": "stream",
     "text": [
      "<keras.engine.training.Model object at 0x00000195C8243F88>\n"
     ]
    }
   ],
   "source": [
    "print(GPS_model)"
   ]
  },
  {
   "cell_type": "code",
   "execution_count": 6,
   "metadata": {},
   "outputs": [
    {
     "name": "stdout",
     "output_type": "stream",
     "text": [
      "[<keras.engine.input_layer.InputLayer object at 0x00000195CF5CD848>, <keras.layers.recurrent.LSTM object at 0x00000195EDBB3448>, <keras.layers.recurrent.LSTM object at 0x00000195EDBB4788>, <keras.engine.input_layer.InputLayer object at 0x00000195E0723808>, <keras.layers.merge.Concatenate object at 0x00000195E64EF348>, <keras.layers.core.Dense object at 0x00000195E64B3708>, <keras.layers.core.Dense object at 0x00000195C8210E08>, <keras.layers.core.Dense object at 0x00000195C8224248>, <keras.layers.core.Dense object at 0x00000195C8228908>, <keras.layers.core.Dense object at 0x00000195C82304C8>, <keras.layers.core.Dense object at 0x00000195C8237AC8>, <keras.layers.core.Dense object at 0x00000195C823B488>]\n"
     ]
    }
   ],
   "source": [
    "print(GPS_model.layers)"
   ]
  },
  {
   "cell_type": "code",
   "execution_count": 7,
   "metadata": {},
   "outputs": [
    {
     "name": "stdout",
     "output_type": "stream",
     "text": [
      "12\n"
     ]
    }
   ],
   "source": [
    "print(len(GPS_model.layers))"
   ]
  },
  {
   "cell_type": "code",
   "execution_count": 8,
   "metadata": {},
   "outputs": [
    {
     "name": "stdout",
     "output_type": "stream",
     "text": [
      "<keras.engine.input_layer.InputLayer object at 0x00000195CF5CD848>\n"
     ]
    }
   ],
   "source": [
    "print(GPS_model.layers[0])"
   ]
  },
  {
   "cell_type": "code",
   "execution_count": 9,
   "metadata": {},
   "outputs": [
    {
     "name": "stdout",
     "output_type": "stream",
     "text": [
      "<keras.engine.input_layer.InputLayer object at 0x00000195CF5CD848>\n"
     ]
    }
   ],
   "source": [
    "print(str(GPS_model.layers[0]))"
   ]
  },
  {
   "cell_type": "code",
   "execution_count": 3,
   "metadata": {},
   "outputs": [
    {
     "name": "stdout",
     "output_type": "stream",
     "text": [
      "<keras.layers.core.Dense object at 0x000001D673958D88>\n"
     ]
    }
   ],
   "source": [
    "print(GPS_model.layers[11])"
   ]
  },
  {
   "cell_type": "code",
   "execution_count": 2,
   "metadata": {},
   "outputs": [
    {
     "name": "stdout",
     "output_type": "stream",
     "text": [
      "(10, 512)\n"
     ]
    }
   ],
   "source": [
    "print(GPS_model.layers[1].get_weights()[0].shape)"
   ]
  },
  {
   "cell_type": "code",
   "execution_count": 3,
   "metadata": {},
   "outputs": [
    {
     "name": "stdout",
     "output_type": "stream",
     "text": [
      "(128, 512)\n"
     ]
    }
   ],
   "source": [
    "print(GPS_model.layers[1].get_weights()[1].shape)"
   ]
  },
  {
   "cell_type": "code",
   "execution_count": null,
   "metadata": {},
   "outputs": [],
   "source": []
  }
 ],
 "metadata": {
  "kernelspec": {
   "display_name": "Python 3",
   "language": "python",
   "name": "python3"
  },
  "language_info": {
   "codemirror_mode": {
    "name": "ipython",
    "version": 3
   },
   "file_extension": ".py",
   "mimetype": "text/x-python",
   "name": "python",
   "nbconvert_exporter": "python",
   "pygments_lexer": "ipython3",
   "version": "3.7.6"
  }
 },
 "nbformat": 4,
 "nbformat_minor": 4
}
