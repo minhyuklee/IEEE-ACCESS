{
 "cells": [
  {
   "cell_type": "code",
   "execution_count": null,
   "metadata": {},
   "outputs": [],
   "source": [
    "from keras.initializers import glorot_normal\n",
    "from keras.models import Model, load_model\n",
    "from keras.layers import Input, Dense, Flatten, Reshape, concatenate, Multiply, Add, LSTM, Lambda\n",
    "from keras.optimizers import Nadam, Adamax, Adam\n",
    "\n",
    "import pandas as pd\n",
    "import numpy as np\n",
    "import tensorflow as tf\n",
    "import keras\n",
    "import time\n",
    "import math\n",
    "import os\n",
    "import csv\n",
    "\n",
    "def Gesture_classification(columns_size):\n",
    "    with tf.device('/gpu:0'):\n",
    "        sensor_input = Input(shape=(None,columns_size))\n",
    "        hidden1 = LSTM(64, return_sequences=True)(sensor_input)\n",
    "        hidden2 = LSTM(64)(hidden1)\n",
    "        \n",
    "        y1 = Dense(64, activation = 'relu', kernel_initializer=glorot_normal(seed=1))(hidden2)\n",
    "        y2 = Dense(64, activation = 'relu', kernel_initializer=glorot_normal(seed=1))(y1)\n",
    "        y3 = Dense(64, activation = 'relu', kernel_initializer=glorot_normal(seed=1))(y2)\n",
    "\n",
    "        Gesture_output = Dense(11, activation = 'softmax', kernel_initializer=glorot_normal(seed=1))(y3)\n",
    "\n",
    "        Gesture_model = Model(inputs = sensor_input, outputs = Gesture_output)\n",
    "        \n",
    "    return(Gesture_model)\n",
    "\n",
    "def weightexport_LSTM(model, layer_ind):\n",
    "    for i in range(len(layer_ind)):\n",
    "        LSTM_weight_x = model.layers[layer_ind[i]].get_weights()[0]\n",
    "        LSTM_weight_h = model.layers[layer_ind[i]].get_weights()[1]\n",
    "        LSTM_bias = model.layers[layer_ind[i]].get_weights()[2]\n",
    "        pd.DataFrame(LSTM_weight_x).to_csv('LSTM_weight_x'+str(layer_ind[i])+'.csv', header = False, index = False)\n",
    "        pd.DataFrame(LSTM_weight_h).to_csv('LSTM_weight_h'+str(layer_ind[i])+'.csv', header = False, index = False)\n",
    "        pd.DataFrame(LSTM_bias).to_csv('LSTM_bias'+str(layer_ind[i])+'.csv', header = False, index = False)\n",
    "        \n",
    "def weightexport_Dense(model, layer_ind):\n",
    "    for i in range(len(layer_ind)):\n",
    "        Dense_weight = model.layers[layer_ind[i]].get_weights()[0]\n",
    "        Dense_bias = model.layers[layer_ind[i]].get_weights()[1]\n",
    "        pd.DataFrame(Dense_weight).to_csv('Dense_weight'+str(layer_ind[i])+'.csv', header = False, index = False)\n",
    "        pd.DataFrame(Dense_bias).to_csv('Dense_bias'+str(layer_ind[i])+'.csv', header = False, index = False)"
   ]
  }
 ],
 "metadata": {
  "kernelspec": {
   "display_name": "Python 3",
   "language": "python",
   "name": "python3"
  },
  "language_info": {
   "codemirror_mode": {
    "name": "ipython",
    "version": 3
   },
   "file_extension": ".py",
   "mimetype": "text/x-python",
   "name": "python",
   "nbconvert_exporter": "python",
   "pygments_lexer": "ipython3",
   "version": "3.7.6"
  }
 },
 "nbformat": 4,
 "nbformat_minor": 4
}
