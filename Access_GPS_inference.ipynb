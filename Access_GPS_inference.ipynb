{
 "cells": [
  {
   "cell_type": "code",
   "execution_count": null,
   "metadata": {},
   "outputs": [],
   "source": [
    "import numpy as np\n",
    "\n",
    "def listtoarray2(data): # list의 각 element의 행이 1일 때 사용. Vertical 방향으로 stack된 형태의 array 출력됨.\n",
    "    data_out = []\n",
    "    if len(data) != 1:\n",
    "        for count in range(len(data)):\n",
    "            if count == 0:\n",
    "                data_out = data[count]\n",
    "            else:\n",
    "                data_out = np.vstack((data_out, data[count]))\n",
    "    else:\n",
    "        data_out = data[0]\n",
    "    return(data_out)\n",
    "\n",
    "def parsingdata(data, check_num):\n",
    "    temp_raw = np.array(data)\n",
    "    data_out = []\n",
    "    temp = np.zeros((1,temp_raw[0,0,:].shape[0]))\n",
    "    for i in range(temp_raw.shape[1]):\n",
    "        if np.float64(temp_raw[0,i,0]).item() == check_num:\n",
    "            temp_comp = np.delete(temp, 0, 0)\n",
    "            data_out.append(temp_comp)\n",
    "            temp = np.zeros((1,temp_raw[0,0,:].shape[0]))\n",
    "            continue\n",
    "        else:\n",
    "            temp2 = np.reshape(temp_raw[0,i,:],(1,-1))\n",
    "            temp = np.append(temp,temp2,axis=0)\n",
    "            \n",
    "    return(data_out)\n",
    "\n",
    "def auxiliary_input(list_trainset):\n",
    "    output = [] # list of last step input\n",
    "    for i in range(len(list_trainset)):\n",
    "        temp = list_trainset[i]\n",
    "        output.append(temp[-1,:])\n",
    "        \n",
    "    return(output)"
   ]
  },
  {
   "cell_type": "code",
   "execution_count": null,
   "metadata": {},
   "outputs": [],
   "source": [
    "import numpy as np\n",
    "from keras.preprocessing import sequence\n",
    "from keras.models import load_model\n",
    "import pandas as pd\n",
    "\n",
    "input_train = [np.array(pd.read_csv('Access_GPStraining_sensor.csv', header=None))]\n",
    "output_train = [np.array(pd.read_csv('Access_GPStraining_GPS.csv', header=None))]\n",
    "\n",
    "# parsing with certain number\n",
    "check_num = 10000.0\n",
    "# for training data\n",
    "input_trainset = parsingdata(input_train, check_num)\n",
    "aux_input_trainset = auxiliary_input(input_trainset)\n",
    "aux_input_trainset = listtoarray2(aux_input_trainset) # model.fit의 입력으로 list 타입이 아닌 np.array 타입으로 넣어야 함.\n",
    "output_trainset = parsingdata(output_train, check_num)\n",
    "output_trainset = listtoarray2(output_trainset) # model.fit의 입력으로 list 타입이 아닌 np.array 타입으로 넣어야 함.\n",
    "\n",
    "# Zero-padding\n",
    "input_trainset = sequence.pad_sequences(input_trainset, dtype='float32', padding='pre')"
   ]
  },
  {
   "cell_type": "code",
   "execution_count": 6,
   "metadata": {},
   "outputs": [],
   "source": [
    "from keras.initializers import glorot_normal\n",
    "from keras.models import Model, load_model\n",
    "from keras.layers import Input, Dense, Flatten, Reshape, concatenate, Multiply, Add, LSTM, Lambda\n",
    "from keras.optimizers import Nadam, Adamax, Adam\n",
    "\n",
    "import pandas as pd\n",
    "import numpy as np\n",
    "import tensorflow as tf\n",
    "import keras\n",
    "import time\n",
    "import math\n",
    "import os\n",
    "import csv\n",
    "\n",
    "def GPSestimation(columns_size):\n",
    "    with tf.device('/gpu:0'):\n",
    "        sensor_input = Input(shape=(None,columns_size), name='main_input')\n",
    "        hidden1 = LSTM(128, return_sequences=True)(sensor_input)\n",
    "        hidden2 = LSTM(128)(hidden1)\n",
    "        \n",
    "        auxiliary_sensor_input = Input(shape=(columns_size,), name='last_step_input')\n",
    "        \n",
    "        r = concatenate([hidden2, auxiliary_sensor_input])\n",
    "        \n",
    "        y1 = Dense(128, activation = 'relu', kernel_initializer=glorot_normal(seed=1))(r)\n",
    "        y2 = Dense(128, activation = 'relu', kernel_initializer=glorot_normal(seed=1))(y1)\n",
    "        y3 = Dense(128, activation = 'relu', kernel_initializer=glorot_normal(seed=1))(y2)\n",
    "        y4 = Dense(128, activation = 'relu', kernel_initializer=glorot_normal(seed=1))(y3)\n",
    "        y5 = Dense(128, activation = 'relu', kernel_initializer=glorot_normal(seed=1))(y4)\n",
    "        y6 = Dense(128, activation = 'relu', kernel_initializer=glorot_normal(seed=1))(y5)\n",
    "\n",
    "        GPS_output = Dense(1, activation = 'sigmoid', kernel_initializer=glorot_normal(seed=1))(y6)\n",
    "\n",
    "        GPS_model = Model(inputs = [sensor_input, auxiliary_sensor_input], outputs = [GPS_output])\n",
    "        \n",
    "    return(GPS_model)\n",
    "\n",
    "def weightexport_LSTM(model, layer_ind):\n",
    "    for i in range(len(layer_ind)):\n",
    "        LSTM_weight_x = model.layers[layer_ind[i]].get_weights()[0]\n",
    "        LSTM_weight_h = model.layers[layer_ind[i]].get_weights()[1]\n",
    "        LSTM_bias = model.layers[layer_ind[i]].get_weights()[2]\n",
    "        pd.DataFrame(LSTM_weight_x).to_csv('LSTM_weight_x'+str(layer_ind[i])+'.csv', header = False, index = False)\n",
    "        pd.DataFrame(LSTM_weight_h).to_csv('LSTM_weight_h'+str(layer_ind[i])+'.csv', header = False, index = False)\n",
    "        pd.DataFrame(LSTM_bias).to_csv('LSTM_bias'+str(layer_ind[i])+'.csv', header = False, index = False)\n",
    "        \n",
    "def weightexport_Dense(model, layer_ind):\n",
    "    for i in range(len(layer_ind)):\n",
    "        Dense_weight = model.layers[layer_ind[i]].get_weights()[0]\n",
    "        Dense_bias = model.layers[layer_ind[i]].get_weights()[1]\n",
    "        pd.DataFrame(Dense_weight).to_csv('Dense_weight'+str(layer_ind[i])+'.csv', header = False, index = False)\n",
    "        pd.DataFrame(Dense_bias).to_csv('Dense_bias'+str(layer_ind[i])+'.csv', header = False, index = False)"
   ]
  },
  {
   "cell_type": "code",
   "execution_count": 7,
   "metadata": {},
   "outputs": [
    {
     "name": "stdout",
     "output_type": "stream",
     "text": [
      "Model: \"model\"\n",
      "__________________________________________________________________________________________________\n",
      "Layer (type)                    Output Shape         Param #     Connected to                     \n",
      "==================================================================================================\n",
      "main_input (InputLayer)         [(None, None, 10)]   0                                            \n",
      "__________________________________________________________________________________________________\n",
      "lstm (LSTM)                     (None, None, 128)    71168       main_input[0][0]                 \n",
      "__________________________________________________________________________________________________\n",
      "lstm_1 (LSTM)                   (None, 128)          131584      lstm[0][0]                       \n",
      "__________________________________________________________________________________________________\n",
      "last_step_input (InputLayer)    [(None, 10)]         0                                            \n",
      "__________________________________________________________________________________________________\n",
      "concatenate (Concatenate)       (None, 138)          0           lstm_1[0][0]                     \n",
      "                                                                 last_step_input[0][0]            \n",
      "__________________________________________________________________________________________________\n",
      "dense (Dense)                   (None, 128)          17792       concatenate[0][0]                \n",
      "__________________________________________________________________________________________________\n",
      "dense_1 (Dense)                 (None, 128)          16512       dense[0][0]                      \n",
      "__________________________________________________________________________________________________\n",
      "dense_2 (Dense)                 (None, 128)          16512       dense_1[0][0]                    \n",
      "__________________________________________________________________________________________________\n",
      "dense_3 (Dense)                 (None, 128)          16512       dense_2[0][0]                    \n",
      "__________________________________________________________________________________________________\n",
      "dense_4 (Dense)                 (None, 128)          16512       dense_3[0][0]                    \n",
      "__________________________________________________________________________________________________\n",
      "dense_5 (Dense)                 (None, 128)          16512       dense_4[0][0]                    \n",
      "__________________________________________________________________________________________________\n",
      "dense_6 (Dense)                 (None, 1)            129         dense_5[0][0]                    \n",
      "==================================================================================================\n",
      "Total params: 303,233\n",
      "Trainable params: 303,233\n",
      "Non-trainable params: 0\n",
      "__________________________________________________________________________________________________\n",
      "Epoch 1/10\n",
      "10/10 [==============================] - 0s 35ms/step - loss: 0.1016 - mae: 0.2757\n",
      "Epoch 2/10\n",
      "10/10 [==============================] - 0s 33ms/step - loss: 0.0213 - mae: 0.0916\n",
      "Epoch 3/10\n",
      "10/10 [==============================] - 0s 33ms/step - loss: 0.0101 - mae: 0.0681\n",
      "Epoch 4/10\n",
      "10/10 [==============================] - 0s 33ms/step - loss: 0.0055 - mae: 0.0489\n",
      "Epoch 5/10\n",
      "10/10 [==============================] - 0s 33ms/step - loss: 0.0038 - mae: 0.0401\n",
      "Epoch 6/10\n",
      "10/10 [==============================] - 0s 33ms/step - loss: 0.0029 - mae: 0.0339\n",
      "Epoch 7/10\n",
      "10/10 [==============================] - 0s 33ms/step - loss: 0.0023 - mae: 0.0301\n",
      "Epoch 8/10\n",
      "10/10 [==============================] - 0s 33ms/step - loss: 0.0019 - mae: 0.0269\n",
      "Epoch 9/10\n",
      "10/10 [==============================] - 0s 33ms/step - loss: 0.0017 - mae: 0.0255\n",
      "Epoch 10/10\n",
      "10/10 [==============================] - 0s 34ms/step - loss: 0.0016 - mae: 0.0244\n"
     ]
    },
    {
     "data": {
      "text/plain": [
       "<tensorflow.python.keras.callbacks.History at 0x12a1e01e848>"
      ]
     },
     "execution_count": 7,
     "metadata": {},
     "output_type": "execute_result"
    }
   ],
   "source": [
    "GPS_model = GPSestimation(10) # model의 입력은 사용된 센서 개수를 의미함.\n",
    "GPS_model.compile(optimizer='adam', loss='mean_squared_error',metrics=['mae'])\n",
    "GPS_model.summary()\n",
    "\n",
    "# model compile 후 실제로 학습되는 과정: model.fit\n",
    "GPS_model.fit({'main_input': input_trainset, 'last_step_input': aux_input_trainset}, output_trainset, epochs=10, batch_size=2640) # 2640"
   ]
  },
  {
   "cell_type": "code",
   "execution_count": 3,
   "metadata": {},
   "outputs": [
    {
     "name": "stdout",
     "output_type": "stream",
     "text": [
      "[[[ 0.        0.        0.       ...  0.        0.        0.      ]\n",
      "  [ 0.        0.        0.       ...  0.        0.        0.      ]\n",
      "  [ 0.        0.        0.       ...  0.        0.        0.      ]\n",
      "  ...\n",
      "  [-0.92816  -0.832    -0.62677  ... -1.5951   -1.3321   -1.3627  ]\n",
      "  [-0.92816  -0.832    -0.6383   ... -1.5855   -1.3321   -1.3568  ]\n",
      "  [-0.92816  -0.83721  -0.6383   ... -1.5855   -1.3263   -1.3568  ]]\n",
      "\n",
      " [[ 0.        0.        0.       ...  0.        0.        0.      ]\n",
      "  [ 0.        0.        0.       ...  0.        0.        0.      ]\n",
      "  [ 0.        0.        0.       ...  0.        0.        0.      ]\n",
      "  ...\n",
      "  [-0.93362  -0.83721  -0.6383   ... -1.5855   -1.3321   -1.3568  ]\n",
      "  [-0.93908  -0.83721  -0.6383   ... -1.5903   -1.3379   -1.3568  ]\n",
      "  [-0.93908  -0.84762  -0.62677  ... -1.5855   -1.3379   -1.3598  ]]\n",
      "\n",
      " [[ 0.        0.        0.       ...  0.        0.        0.      ]\n",
      "  [ 0.        0.        0.       ...  0.        0.        0.      ]\n",
      "  [ 0.        0.        0.       ...  0.        0.        0.      ]\n",
      "  ...\n",
      "  [-0.92816  -0.83721  -0.6383   ... -1.5951   -1.3495   -1.3627  ]\n",
      "  [-0.92269  -0.83721  -0.6383   ... -1.5951   -1.3495   -1.3656  ]\n",
      "  [-0.93908  -0.83721  -0.6383   ... -1.5903   -1.3321   -1.3656  ]]\n",
      "\n",
      " ...\n",
      "\n",
      " [[ 0.        0.        0.       ...  0.        0.        0.      ]\n",
      "  [ 0.        0.        0.       ...  0.        0.        0.      ]\n",
      "  [ 0.        0.        0.       ...  0.        0.        0.      ]\n",
      "  ...\n",
      "  [-0.63469  -0.51965   2.5862   ...  0.094384 -0.88336  -0.95139 ]\n",
      "  [-0.62853  -0.51965   2.5862   ...  0.094384 -0.86689  -0.94212 ]\n",
      "  [-0.63469  -0.52536   2.5604   ...  0.086002 -0.88336  -0.94212 ]]\n",
      "\n",
      " [[ 0.        0.        0.       ...  0.        0.        0.      ]\n",
      "  [ 0.        0.        0.       ...  0.        0.        0.      ]\n",
      "  [ 0.        0.        0.       ...  0.        0.        0.      ]\n",
      "  ...\n",
      "  [-0.63469  -0.52536   2.5604   ...  0.086002 -0.88336  -0.94212 ]\n",
      "  [-0.62853  -0.51965   2.5475   ...  0.086002 -0.87512  -0.94212 ]\n",
      "  [-0.62238  -0.50823   2.5346   ...  0.077621 -0.87512  -0.93749 ]]\n",
      "\n",
      " [[ 0.        0.        0.       ...  0.        0.        0.      ]\n",
      "  [ 0.        0.        0.       ...  0.        0.        0.      ]\n",
      "  [ 0.        0.        0.       ...  0.        0.        0.      ]\n",
      "  ...\n",
      "  [-0.62238  -0.50823   2.5346   ...  0.077621 -0.87512  -0.93749 ]\n",
      "  [-0.62853  -0.50823   2.5346   ...  0.077621 -0.87512  -0.94212 ]\n",
      "  [-0.63469  -0.50823   2.5346   ...  0.077621 -0.86689  -0.93749 ]]]\n"
     ]
    }
   ],
   "source": [
    "print(input_trainset)"
   ]
  },
  {
   "cell_type": "code",
   "execution_count": 4,
   "metadata": {},
   "outputs": [
    {
     "name": "stdout",
     "output_type": "stream",
     "text": [
      "[[-0.92816  -0.83721  -0.6383   ... -1.5855   -1.3263   -1.3568  ]\n",
      " [-0.93908  -0.84762  -0.62677  ... -1.5855   -1.3379   -1.3598  ]\n",
      " [-0.93908  -0.83721  -0.6383   ... -1.5903   -1.3321   -1.3656  ]\n",
      " ...\n",
      " [-0.63469  -0.52536   2.5604   ...  0.086002 -0.88336  -0.94212 ]\n",
      " [-0.62238  -0.50823   2.5346   ...  0.077621 -0.87512  -0.93749 ]\n",
      " [-0.63469  -0.50823   2.5346   ...  0.077621 -0.86689  -0.93749 ]]\n"
     ]
    }
   ],
   "source": [
    "print(aux_input_trainset)"
   ]
  },
  {
   "cell_type": "code",
   "execution_count": 5,
   "metadata": {},
   "outputs": [
    {
     "name": "stdout",
     "output_type": "stream",
     "text": [
      "[[0.0054776]\n",
      " [0.0057433]\n",
      " [0.0057945]\n",
      " ...\n",
      " [0.99285  ]\n",
      " [0.99485  ]\n",
      " [0.99701  ]]\n"
     ]
    }
   ],
   "source": [
    "print(output_trainset)"
   ]
  },
  {
   "cell_type": "code",
   "execution_count": 18,
   "metadata": {},
   "outputs": [
    {
     "name": "stdout",
     "output_type": "stream",
     "text": [
      "<class 'numpy.ndarray'>\n"
     ]
    }
   ],
   "source": [
    "print(type(aux_input_trainset))"
   ]
  },
  {
   "cell_type": "code",
   "execution_count": 19,
   "metadata": {},
   "outputs": [
    {
     "name": "stdout",
     "output_type": "stream",
     "text": [
      "<class 'numpy.ndarray'>\n"
     ]
    }
   ],
   "source": [
    "print(type(input_trainset))"
   ]
  },
  {
   "cell_type": "code",
   "execution_count": 20,
   "metadata": {},
   "outputs": [
    {
     "name": "stdout",
     "output_type": "stream",
     "text": [
      "<class 'numpy.ndarray'>\n"
     ]
    }
   ],
   "source": [
    "print(type(output_trainset))"
   ]
  },
  {
   "cell_type": "code",
   "execution_count": 21,
   "metadata": {},
   "outputs": [
    {
     "name": "stdout",
     "output_type": "stream",
     "text": [
      "['0.0054776']\n"
     ]
    }
   ],
   "source": [
    "print(output_trainset[0])"
   ]
  },
  {
   "cell_type": "code",
   "execution_count": 22,
   "metadata": {},
   "outputs": [
    {
     "name": "stdout",
     "output_type": "stream",
     "text": [
      "<class 'numpy.ndarray'>\n"
     ]
    }
   ],
   "source": [
    "print(type(output_trainset[0]))"
   ]
  },
  {
   "cell_type": "code",
   "execution_count": 23,
   "metadata": {},
   "outputs": [
    {
     "name": "stdout",
     "output_type": "stream",
     "text": [
      "26400\n"
     ]
    }
   ],
   "source": [
    "print(len(input_trainset))"
   ]
  },
  {
   "cell_type": "code",
   "execution_count": 32,
   "metadata": {},
   "outputs": [
    {
     "name": "stdout",
     "output_type": "stream",
     "text": [
      "[array([['-0.92269', '-0.83721', '-0.62677', ..., '-1.6047', '-1.3437',\n",
      "        '-1.3802'],\n",
      "       ['-0.91177', '-0.83721', '-0.62677', ..., '-1.6143', '-1.3554',\n",
      "        '-1.3802'],\n",
      "       ['-0.91723', '-0.84241', '-0.6383', ..., '-1.6191', '-1.3554',\n",
      "        '-1.3743'],\n",
      "       ...,\n",
      "       ['-0.62853', '-0.50823', '2.5346', ..., '0.077621', '-0.87512',\n",
      "        '-0.94212'],\n",
      "       ['-0.63469', '-0.50823', '2.5346', ..., '0.077621', '-0.86689',\n",
      "        '-0.93749'],\n",
      "       ['10000', '10000', '10000', ..., '10000', '10000', '10000']],\n",
      "      dtype='<U11')]\n"
     ]
    }
   ],
   "source": [
    "print(input_train)"
   ]
  },
  {
   "cell_type": "code",
   "execution_count": 34,
   "metadata": {},
   "outputs": [],
   "source": [
    "from numpy import genfromtxt\n",
    "my_data = genfromtxt('Access_GPStraining_sensor.csv', delimiter=',')"
   ]
  },
  {
   "cell_type": "code",
   "execution_count": 35,
   "metadata": {},
   "outputs": [
    {
     "name": "stdout",
     "output_type": "stream",
     "text": [
      "[[-9.2269e-01 -8.3721e-01 -6.2677e-01 ... -1.6047e+00 -1.3437e+00\n",
      "  -1.3802e+00]\n",
      " [-9.1177e-01 -8.3721e-01 -6.2677e-01 ... -1.6143e+00 -1.3554e+00\n",
      "  -1.3802e+00]\n",
      " [-9.1723e-01 -8.4241e-01 -6.3830e-01 ... -1.6191e+00 -1.3554e+00\n",
      "  -1.3743e+00]\n",
      " ...\n",
      " [-6.2853e-01 -5.0823e-01  2.5346e+00 ...  7.7621e-02 -8.7512e-01\n",
      "  -9.4212e-01]\n",
      " [-6.3469e-01 -5.0823e-01  2.5346e+00 ...  7.7621e-02 -8.6689e-01\n",
      "  -9.3749e-01]\n",
      " [ 1.0000e+04  1.0000e+04  1.0000e+04 ...  1.0000e+04  1.0000e+04\n",
      "   1.0000e+04]]\n"
     ]
    }
   ],
   "source": [
    "print(my_data)"
   ]
  },
  {
   "cell_type": "code",
   "execution_count": 36,
   "metadata": {},
   "outputs": [
    {
     "name": "stdout",
     "output_type": "stream",
     "text": [
      "[array([[-9.2269e-01, -8.3721e-01, -6.2677e-01, ..., -1.6047e+00,\n",
      "        -1.3437e+00, -1.3802e+00],\n",
      "       [-9.1177e-01, -8.3721e-01, -6.2677e-01, ..., -1.6143e+00,\n",
      "        -1.3554e+00, -1.3802e+00],\n",
      "       [-9.1723e-01, -8.4241e-01, -6.3830e-01, ..., -1.6191e+00,\n",
      "        -1.3554e+00, -1.3743e+00],\n",
      "       ...,\n",
      "       [-6.2853e-01, -5.0823e-01,  2.5346e+00, ...,  7.7621e-02,\n",
      "        -8.7512e-01, -9.4212e-01],\n",
      "       [-6.3469e-01, -5.0823e-01,  2.5346e+00, ...,  7.7621e-02,\n",
      "        -8.6689e-01, -9.3749e-01],\n",
      "       [ 1.0000e+04,  1.0000e+04,  1.0000e+04, ...,  1.0000e+04,\n",
      "         1.0000e+04,  1.0000e+04]])]\n"
     ]
    }
   ],
   "source": [
    "my_data2 = [my_data]\n",
    "print(my_data2)"
   ]
  },
  {
   "cell_type": "code",
   "execution_count": 39,
   "metadata": {},
   "outputs": [
    {
     "name": "stdout",
     "output_type": "stream",
     "text": [
      "[array([[-9.2269e-01, -8.3721e-01, -6.2677e-01, ..., -1.6047e+00,\n",
      "        -1.3437e+00, -1.3802e+00],\n",
      "       [-9.1177e-01, -8.3721e-01, -6.2677e-01, ..., -1.6143e+00,\n",
      "        -1.3554e+00, -1.3802e+00],\n",
      "       [-9.1723e-01, -8.4241e-01, -6.3830e-01, ..., -1.6191e+00,\n",
      "        -1.3554e+00, -1.3743e+00],\n",
      "       ...,\n",
      "       [-6.2853e-01, -5.0823e-01,  2.5346e+00, ...,  7.7621e-02,\n",
      "        -8.7512e-01, -9.4212e-01],\n",
      "       [-6.3469e-01, -5.0823e-01,  2.5346e+00, ...,  7.7621e-02,\n",
      "        -8.6689e-01, -9.3749e-01],\n",
      "       [ 1.0000e+04,  1.0000e+04,  1.0000e+04, ...,  1.0000e+04,\n",
      "         1.0000e+04,  1.0000e+04]])]\n"
     ]
    }
   ],
   "source": [
    "print(input_train)"
   ]
  },
  {
   "cell_type": "code",
   "execution_count": 45,
   "metadata": {},
   "outputs": [
    {
     "name": "stdout",
     "output_type": "stream",
     "text": [
      "[array([[5.4776e-03],\n",
      "       [1.0000e+04],\n",
      "       [5.7433e-03],\n",
      "       ...,\n",
      "       [1.0000e+04],\n",
      "       [9.9701e-01],\n",
      "       [1.0000e+04]])]\n"
     ]
    }
   ],
   "source": [
    "print(output_train)"
   ]
  },
  {
   "cell_type": "code",
   "execution_count": 1,
   "metadata": {},
   "outputs": [],
   "source": [
    "import tensorflow as tf\n",
    "physical_devices = tf.config.list_physical_devices('GPU')\n",
    "tf.config.experimental.set_memory_growth(physical_devices[0], enable=True)"
   ]
  },
  {
   "cell_type": "code",
   "execution_count": null,
   "metadata": {},
   "outputs": [],
   "source": []
  }
 ],
 "metadata": {
  "kernelspec": {
   "display_name": "Python 3",
   "language": "python",
   "name": "python3"
  },
  "language_info": {
   "codemirror_mode": {
    "name": "ipython",
    "version": 3
   },
   "file_extension": ".py",
   "mimetype": "text/x-python",
   "name": "python",
   "nbconvert_exporter": "python",
   "pygments_lexer": "ipython3",
   "version": "3.7.6"
  }
 },
 "nbformat": 4,
 "nbformat_minor": 4
}
