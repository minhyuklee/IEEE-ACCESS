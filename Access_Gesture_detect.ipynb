{
 "cells": [
  {
   "cell_type": "code",
   "execution_count": 1,
   "metadata": {},
   "outputs": [],
   "source": [
    "import numpy as np\n",
    "\n",
    "def listtoarray2(data): # list의 각 element의 행이 1일 때 사용. Vertical 방향으로 stack된 형태의 array 출력됨.\n",
    "    data_out = []\n",
    "    if len(data) != 1:\n",
    "        for count in range(len(data)):\n",
    "            if count == 0:\n",
    "                data_out = data[count]\n",
    "            else:\n",
    "                data_out = np.vstack((data_out, data[count]))\n",
    "    else:\n",
    "        data_out = data[0]\n",
    "    return(data_out)\n",
    "\n",
    "def parsingdata(data, check_num):\n",
    "    temp_raw = np.array(data)\n",
    "    data_out = []\n",
    "    temp = np.zeros((1,temp_raw[0,0,:].shape[0]))\n",
    "    for i in range(temp_raw.shape[1]):\n",
    "        if np.float64(temp_raw[0,i,0]).item() == check_num:\n",
    "            temp_comp = np.delete(temp, 0, 0)\n",
    "            data_out.append(temp_comp)\n",
    "            temp = np.zeros((1,temp_raw[0,0,:].shape[0]))\n",
    "            continue\n",
    "        else:\n",
    "            temp2 = np.reshape(temp_raw[0,i,:],(1,-1))\n",
    "            temp = np.append(temp,temp2,axis=0)\n",
    "            \n",
    "    return(data_out)"
   ]
  },
  {
   "cell_type": "code",
   "execution_count": 2,
   "metadata": {},
   "outputs": [],
   "source": [
    "import numpy as np\n",
    "from keras.preprocessing import sequence\n",
    "from keras.models import load_model\n",
    "import pandas as pd\n",
    "\n",
    "input_train = [np.array(pd.read_csv('Access_Gesturetraining_sensor.csv', header=None))]\n",
    "output_train = [np.array(pd.read_csv('Access_Gesturetraining_class.csv', header=None))]\n",
    "\n",
    "# parsing with certain number\n",
    "check_num = 10000.0\n",
    "\n",
    "# for training data\n",
    "input_trainset = parsingdata(input_train, check_num)\n",
    "output_trainset = parsingdata(output_train, check_num)\n",
    "output_trainset = listtoarray2(output_trainset) # model.fit의 입력으로 list 타입이 아닌 np.array 타입으로 넣어야 함.\n",
    "\n",
    "# Zero-padding\n",
    "input_trainset = sequence.pad_sequences(input_trainset, dtype='float32', padding='pre')"
   ]
  },
  {
   "cell_type": "code",
   "execution_count": 3,
   "metadata": {},
   "outputs": [],
   "source": [
    "from keras.initializers import glorot_normal\n",
    "from keras.models import Model, load_model\n",
    "from keras.layers import Input, Dense, Flatten, Reshape, concatenate, Multiply, Add, LSTM, Lambda\n",
    "from keras.optimizers import Nadam, Adamax, Adam\n",
    "\n",
    "import pandas as pd\n",
    "import numpy as np\n",
    "import tensorflow as tf\n",
    "import keras\n",
    "import time\n",
    "import math\n",
    "import os\n",
    "import csv\n",
    "\n",
    "def Gesture_classification(columns_size):\n",
    "    with tf.device('/gpu:0'):\n",
    "        sensor_input = Input(shape=(None,columns_size))\n",
    "        hidden1 = LSTM(64, return_sequences=True)(sensor_input)\n",
    "        hidden2 = LSTM(64)(hidden1)\n",
    "        \n",
    "        y1 = Dense(64, activation = 'relu', kernel_initializer=glorot_normal(seed=1))(hidden2)\n",
    "        y2 = Dense(64, activation = 'relu', kernel_initializer=glorot_normal(seed=1))(y1)\n",
    "        y3 = Dense(64, activation = 'relu', kernel_initializer=glorot_normal(seed=1))(y2)\n",
    "\n",
    "        Gesture_output = Dense(11, activation = 'softmax', kernel_initializer=glorot_normal(seed=1))(y3)\n",
    "\n",
    "        Gesture_model = Model(inputs = sensor_input, outputs = Gesture_output)\n",
    "        \n",
    "    return(Gesture_model)\n",
    "\n",
    "def weightexport_LSTM(model, layer_ind):\n",
    "    for i in range(len(layer_ind)):\n",
    "        LSTM_weight_x = model.layers[layer_ind[i]].get_weights()[0]\n",
    "        LSTM_weight_h = model.layers[layer_ind[i]].get_weights()[1]\n",
    "        LSTM_bias = model.layers[layer_ind[i]].get_weights()[2]\n",
    "        pd.DataFrame(LSTM_weight_x).to_csv('LSTM_weight_x'+str(layer_ind[i])+'.csv', header = False, index = False)\n",
    "        pd.DataFrame(LSTM_weight_h).to_csv('LSTM_weight_h'+str(layer_ind[i])+'.csv', header = False, index = False)\n",
    "        pd.DataFrame(LSTM_bias).to_csv('LSTM_bias'+str(layer_ind[i])+'.csv', header = False, index = False)\n",
    "        \n",
    "def weightexport_Dense(model, layer_ind):\n",
    "    for i in range(len(layer_ind)):\n",
    "        Dense_weight = model.layers[layer_ind[i]].get_weights()[0]\n",
    "        Dense_bias = model.layers[layer_ind[i]].get_weights()[1]\n",
    "        pd.DataFrame(Dense_weight).to_csv('Dense_weight'+str(layer_ind[i])+'.csv', header = False, index = False)\n",
    "        pd.DataFrame(Dense_bias).to_csv('Dense_bias'+str(layer_ind[i])+'.csv', header = False, index = False)"
   ]
  },
  {
   "cell_type": "code",
   "execution_count": 4,
   "metadata": {},
   "outputs": [
    {
     "name": "stdout",
     "output_type": "stream",
     "text": [
      "Model: \"model\"\n",
      "_________________________________________________________________\n",
      "Layer (type)                 Output Shape              Param #   \n",
      "=================================================================\n",
      "input_1 (InputLayer)         [(None, None, 10)]        0         \n",
      "_________________________________________________________________\n",
      "lstm (LSTM)                  (None, None, 64)          19200     \n",
      "_________________________________________________________________\n",
      "lstm_1 (LSTM)                (None, 64)                33024     \n",
      "_________________________________________________________________\n",
      "dense (Dense)                (None, 64)                4160      \n",
      "_________________________________________________________________\n",
      "dense_1 (Dense)              (None, 64)                4160      \n",
      "_________________________________________________________________\n",
      "dense_2 (Dense)              (None, 64)                4160      \n",
      "_________________________________________________________________\n",
      "dense_3 (Dense)              (None, 11)                715       \n",
      "=================================================================\n",
      "Total params: 65,419\n",
      "Trainable params: 65,419\n",
      "Non-trainable params: 0\n",
      "_________________________________________________________________\n",
      "Epoch 1/10\n",
      "28/28 [==============================] - 0s 4ms/step - loss: 1.9362 - accuracy: 0.3966\n",
      "Epoch 2/10\n",
      "28/28 [==============================] - 0s 4ms/step - loss: 0.4569 - accuracy: 0.8977\n",
      "Epoch 3/10\n",
      "28/28 [==============================] - 0s 4ms/step - loss: 0.0774 - accuracy: 0.9727\n",
      "Epoch 4/10\n",
      "28/28 [==============================] - 0s 4ms/step - loss: 0.0177 - accuracy: 0.9955\n",
      "Epoch 5/10\n",
      "28/28 [==============================] - 0s 4ms/step - loss: 0.0090 - accuracy: 0.9989\n",
      "Epoch 6/10\n",
      "28/28 [==============================] - 0s 4ms/step - loss: 0.0111 - accuracy: 0.9955\n",
      "Epoch 7/10\n",
      "28/28 [==============================] - 0s 4ms/step - loss: 0.0021 - accuracy: 1.0000\n",
      "Epoch 8/10\n",
      "28/28 [==============================] - 0s 4ms/step - loss: 0.0013 - accuracy: 1.0000\n",
      "Epoch 9/10\n",
      "28/28 [==============================] - 0s 4ms/step - loss: 0.0011 - accuracy: 1.0000\n",
      "Epoch 10/10\n",
      "28/28 [==============================] - 0s 4ms/step - loss: 8.4121e-04 - accuracy: 1.0000\n"
     ]
    },
    {
     "data": {
      "text/plain": [
       "<tensorflow.python.keras.callbacks.History at 0x1c72b14f488>"
      ]
     },
     "execution_count": 4,
     "metadata": {},
     "output_type": "execute_result"
    }
   ],
   "source": [
    "Gesture_model = Gesture_classification(10) # model의 입력은 사용된 센서 개수를 의미함.\n",
    "Gesture_model.compile(optimizer='adam', loss='categorical_crossentropy',metrics=['accuracy'])\n",
    "Gesture_model.summary()\n",
    "\n",
    "# model compile 후 실제로 학습되는 과정: model.fit\n",
    "Gesture_model.fit(input_trainset, output_trainset, epochs=10)"
   ]
  },
  {
   "cell_type": "code",
   "execution_count": 15,
   "metadata": {},
   "outputs": [
    {
     "name": "stdout",
     "output_type": "stream",
     "text": [
      "[[[ 0.       0.       0.      ...  0.       0.       0.     ]\n",
      "  [ 0.       0.       0.      ...  0.       0.       0.     ]\n",
      "  [ 0.       0.       0.      ...  0.       0.       0.     ]\n",
      "  ...\n",
      "  [ 1.6624   1.4764   1.4435  ...  2.1533  15.271   21.838  ]\n",
      "  [ 1.7058   1.5209   1.6649  ...  2.3547  17.145   23.364  ]\n",
      "  [ 1.7058   1.6991   1.7581  ...  2.4202  17.783   24.029  ]]\n",
      "\n",
      " [[ 0.       0.       0.      ...  0.       0.       0.     ]\n",
      "  [ 0.       0.       0.      ...  0.       0.       0.     ]\n",
      "  [ 0.       0.       0.      ...  0.       0.       0.     ]\n",
      "  ...\n",
      "  [ 1.4018   1.3873   1.4085  ...  2.2893  17.145   23.808  ]\n",
      "  [ 1.4886   1.5209   1.56    ...  2.3799  17.996   24.497  ]\n",
      "  [ 1.5755   1.4764   1.6066  ...  2.4051  18.209   24.768  ]]\n",
      "\n",
      " [[ 0.       0.       0.      ...  0.       0.       0.     ]\n",
      "  [ 0.       0.       0.      ...  0.       0.       0.     ]\n",
      "  [ 0.       0.       0.      ...  0.       0.       0.     ]\n",
      "  ...\n",
      "  [ 1.0977   1.1646   1.1988  ...  2.0476  15.484   22.404  ]\n",
      "  [ 1.4452   1.5209   1.5833  ...  2.3547  17.911   24.792  ]\n",
      "  [ 1.5755   1.61     1.6532  ...  2.4001  18.209   25.113  ]]\n",
      "\n",
      " ...\n",
      "\n",
      " [[ 0.       0.       0.      ...  0.       0.       0.     ]\n",
      "  [ 0.       0.       0.      ...  0.       0.       0.     ]\n",
      "  [ 0.       0.       0.      ...  0.       0.       0.     ]\n",
      "  ...\n",
      "  [ 1.8561   1.8566   1.6909  ...  0.57554  1.3192   1.4455 ]\n",
      "  [ 2.0518   2.2962   2.0427  ...  0.79497  2.2233   2.3852 ]\n",
      "  [ 1.954    2.4427   2.2251  ...  0.85642  2.7657   3.3249 ]]\n",
      "\n",
      " [[ 0.       0.       0.      ...  0.       0.       0.     ]\n",
      "  [ 0.       0.       0.      ...  0.       0.       0.     ]\n",
      "  [ 0.       0.       0.      ...  0.       0.       0.     ]\n",
      "  ...\n",
      "  [ 2.0029   2.1497   1.9255  ...  0.74231  2.1027   1.9154 ]\n",
      "  [ 2.0518   2.2474   2.0688  ...  0.83008  2.5246   2.4635 ]\n",
      "  [ 2.1008   2.3939   2.16    ...  0.9003   2.8862   3.0508 ]]\n",
      "\n",
      " [[ 0.       0.       0.      ...  0.       0.       0.     ]\n",
      "  [ 0.       0.       0.      ...  0.       0.       0.     ]\n",
      "  [ 0.       0.       0.      ...  0.       0.       0.     ]\n",
      "  ...\n",
      "  [ 2.1497   2.3939   2.0557  ...  0.83886  2.6451   3.4032 ]\n",
      "  [ 2.0029   2.5404   2.1209  ...  0.87397  2.826    3.599  ]\n",
      "  [ 2.1008   2.5893   2.1469  ...  0.87397  2.8862   3.599  ]]]\n"
     ]
    }
   ],
   "source": [
    "print(input_trainset)"
   ]
  },
  {
   "cell_type": "code",
   "execution_count": 16,
   "metadata": {},
   "outputs": [
    {
     "name": "stdout",
     "output_type": "stream",
     "text": [
      "[]\n"
     ]
    }
   ],
   "source": [
    "print(output_trainset)"
   ]
  },
  {
   "cell_type": "code",
   "execution_count": 25,
   "metadata": {},
   "outputs": [
    {
     "name": "stdout",
     "output_type": "stream",
     "text": [
      "[array([[1.e+00, 0.e+00, 0.e+00, ..., 0.e+00, 0.e+00, 0.e+00],\n",
      "       [1.e+04, 1.e+04, 1.e+04, ..., 1.e+04, 1.e+04, 1.e+04],\n",
      "       [1.e+00, 0.e+00, 0.e+00, ..., 0.e+00, 0.e+00, 0.e+00],\n",
      "       ...,\n",
      "       [1.e+04, 1.e+04, 1.e+04, ..., 1.e+04, 1.e+04, 1.e+04],\n",
      "       [0.e+00, 0.e+00, 0.e+00, ..., 0.e+00, 0.e+00, 1.e+00],\n",
      "       [1.e+04, 1.e+04, 1.e+04, ..., 1.e+04, 1.e+04, 1.e+04]])]\n"
     ]
    }
   ],
   "source": [
    "print(output_train)"
   ]
  },
  {
   "cell_type": "code",
   "execution_count": 26,
   "metadata": {},
   "outputs": [
    {
     "name": "stdout",
     "output_type": "stream",
     "text": [
      "<class 'list'>\n"
     ]
    }
   ],
   "source": [
    "print(type(output_train))"
   ]
  },
  {
   "cell_type": "code",
   "execution_count": 27,
   "metadata": {},
   "outputs": [
    {
     "name": "stdout",
     "output_type": "stream",
     "text": [
      "[[[1.e+00 0.e+00 0.e+00 ... 0.e+00 0.e+00 0.e+00]\n",
      "  [1.e+04 1.e+04 1.e+04 ... 1.e+04 1.e+04 1.e+04]\n",
      "  [1.e+00 0.e+00 0.e+00 ... 0.e+00 0.e+00 0.e+00]\n",
      "  ...\n",
      "  [1.e+04 1.e+04 1.e+04 ... 1.e+04 1.e+04 1.e+04]\n",
      "  [0.e+00 0.e+00 0.e+00 ... 0.e+00 0.e+00 1.e+00]\n",
      "  [1.e+04 1.e+04 1.e+04 ... 1.e+04 1.e+04 1.e+04]]]\n"
     ]
    }
   ],
   "source": [
    "t = np.array(output_train)\n",
    "print(t)"
   ]
  },
  {
   "cell_type": "code",
   "execution_count": 28,
   "metadata": {},
   "outputs": [
    {
     "name": "stdout",
     "output_type": "stream",
     "text": [
      "<class 'numpy.ndarray'>\n"
     ]
    }
   ],
   "source": [
    "print(type(t))"
   ]
  },
  {
   "cell_type": "code",
   "execution_count": 29,
   "metadata": {},
   "outputs": [
    {
     "name": "stdout",
     "output_type": "stream",
     "text": [
      "(1, 1760, 11)\n"
     ]
    }
   ],
   "source": [
    "print(t.shape)"
   ]
  },
  {
   "cell_type": "code",
   "execution_count": 5,
   "metadata": {},
   "outputs": [
    {
     "ename": "RuntimeError",
     "evalue": "Physical devices cannot be modified after being initialized",
     "output_type": "error",
     "traceback": [
      "\u001b[1;31m---------------------------------------------------------------------------\u001b[0m",
      "\u001b[1;31mRuntimeError\u001b[0m                              Traceback (most recent call last)",
      "\u001b[1;32m<ipython-input-5-e1414ad0a644>\u001b[0m in \u001b[0;36m<module>\u001b[1;34m\u001b[0m\n\u001b[0;32m      1\u001b[0m \u001b[1;32mimport\u001b[0m \u001b[0mtensorflow\u001b[0m \u001b[1;32mas\u001b[0m \u001b[0mtf\u001b[0m\u001b[1;33m\u001b[0m\u001b[1;33m\u001b[0m\u001b[0m\n\u001b[0;32m      2\u001b[0m \u001b[0mphysical_devices\u001b[0m \u001b[1;33m=\u001b[0m \u001b[0mtf\u001b[0m\u001b[1;33m.\u001b[0m\u001b[0mconfig\u001b[0m\u001b[1;33m.\u001b[0m\u001b[0mlist_physical_devices\u001b[0m\u001b[1;33m(\u001b[0m\u001b[1;34m'GPU'\u001b[0m\u001b[1;33m)\u001b[0m\u001b[1;33m\u001b[0m\u001b[1;33m\u001b[0m\u001b[0m\n\u001b[1;32m----> 3\u001b[1;33m \u001b[0mtf\u001b[0m\u001b[1;33m.\u001b[0m\u001b[0mconfig\u001b[0m\u001b[1;33m.\u001b[0m\u001b[0mexperimental\u001b[0m\u001b[1;33m.\u001b[0m\u001b[0mset_memory_growth\u001b[0m\u001b[1;33m(\u001b[0m\u001b[0mphysical_devices\u001b[0m\u001b[1;33m[\u001b[0m\u001b[1;36m0\u001b[0m\u001b[1;33m]\u001b[0m\u001b[1;33m,\u001b[0m \u001b[0menable\u001b[0m\u001b[1;33m=\u001b[0m\u001b[1;32mTrue\u001b[0m\u001b[1;33m)\u001b[0m\u001b[1;33m\u001b[0m\u001b[1;33m\u001b[0m\u001b[0m\n\u001b[0m",
      "\u001b[1;32m~\\Anaconda3\\lib\\site-packages\\tensorflow\\python\\framework\\config.py\u001b[0m in \u001b[0;36mset_memory_growth\u001b[1;34m(device, enable)\u001b[0m\n\u001b[0;32m    498\u001b[0m     \u001b[0mRuntimeError\u001b[0m\u001b[1;33m:\u001b[0m \u001b[0mRuntime\u001b[0m \u001b[1;32mis\u001b[0m \u001b[0malready\u001b[0m \u001b[0minitialized\u001b[0m\u001b[1;33m.\u001b[0m\u001b[1;33m\u001b[0m\u001b[1;33m\u001b[0m\u001b[0m\n\u001b[0;32m    499\u001b[0m   \"\"\"\n\u001b[1;32m--> 500\u001b[1;33m   \u001b[0mcontext\u001b[0m\u001b[1;33m.\u001b[0m\u001b[0mcontext\u001b[0m\u001b[1;33m(\u001b[0m\u001b[1;33m)\u001b[0m\u001b[1;33m.\u001b[0m\u001b[0mset_memory_growth\u001b[0m\u001b[1;33m(\u001b[0m\u001b[0mdevice\u001b[0m\u001b[1;33m,\u001b[0m \u001b[0menable\u001b[0m\u001b[1;33m)\u001b[0m\u001b[1;33m\u001b[0m\u001b[1;33m\u001b[0m\u001b[0m\n\u001b[0m\u001b[0;32m    501\u001b[0m \u001b[1;33m\u001b[0m\u001b[0m\n\u001b[0;32m    502\u001b[0m \u001b[1;33m\u001b[0m\u001b[0m\n",
      "\u001b[1;32m~\\Anaconda3\\lib\\site-packages\\tensorflow\\python\\eager\\context.py\u001b[0m in \u001b[0;36mset_memory_growth\u001b[1;34m(self, dev, enable)\u001b[0m\n\u001b[0;32m   1324\u001b[0m     \u001b[1;32mif\u001b[0m \u001b[0mself\u001b[0m\u001b[1;33m.\u001b[0m\u001b[0m_context_handle\u001b[0m \u001b[1;32mis\u001b[0m \u001b[1;32mnot\u001b[0m \u001b[1;32mNone\u001b[0m\u001b[1;33m:\u001b[0m\u001b[1;33m\u001b[0m\u001b[1;33m\u001b[0m\u001b[0m\n\u001b[0;32m   1325\u001b[0m       raise RuntimeError(\n\u001b[1;32m-> 1326\u001b[1;33m           \"Physical devices cannot be modified after being initialized\")\n\u001b[0m\u001b[0;32m   1327\u001b[0m \u001b[1;33m\u001b[0m\u001b[0m\n\u001b[0;32m   1328\u001b[0m     \u001b[0mself\u001b[0m\u001b[1;33m.\u001b[0m\u001b[0m_memory_growth_map\u001b[0m\u001b[1;33m[\u001b[0m\u001b[0mdev\u001b[0m\u001b[1;33m]\u001b[0m \u001b[1;33m=\u001b[0m \u001b[0menable\u001b[0m\u001b[1;33m\u001b[0m\u001b[1;33m\u001b[0m\u001b[0m\n",
      "\u001b[1;31mRuntimeError\u001b[0m: Physical devices cannot be modified after being initialized"
     ]
    }
   ],
   "source": [
    "import tensorflow as tf\n",
    "physical_devices = tf.config.list_physical_devices('GPU')\n",
    "tf.config.experimental.set_memory_growth(physical_devices[0], enable=True)"
   ]
  },
  {
   "cell_type": "code",
   "execution_count": null,
   "metadata": {},
   "outputs": [],
   "source": []
  }
 ],
 "metadata": {
  "kernelspec": {
   "display_name": "Python 3",
   "language": "python",
   "name": "python3"
  },
  "language_info": {
   "codemirror_mode": {
    "name": "ipython",
    "version": 3
   },
   "file_extension": ".py",
   "mimetype": "text/x-python",
   "name": "python",
   "nbconvert_exporter": "python",
   "pygments_lexer": "ipython3",
   "version": "3.7.6"
  }
 },
 "nbformat": 4,
 "nbformat_minor": 4
}
